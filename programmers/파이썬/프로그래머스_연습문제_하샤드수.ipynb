{
 "cells": [
  {
   "cell_type": "code",
   "execution_count": 3,
   "id": "2e8f28a7",
   "metadata": {},
   "outputs": [
    {
     "name": "stdout",
     "output_type": "stream",
     "text": [
      "2\n"
     ]
    }
   ],
   "source": [
    "arr = 11\n",
    "tmp = str(arr)\n",
    "divNum = 0\n",
    "\n",
    "for i in range(len(tmp)):\n",
    "    divNum = divNum + int(tmp[i])\n",
    "    \n",
    "if x % divNum == 0:\n",
    "    answer = True\n",
    "else:\n",
    "    answer = False"
   ]
  }
 ],
 "metadata": {
  "kernelspec": {
   "display_name": "Python 3 (ipykernel)",
   "language": "python",
   "name": "python3"
  },
  "language_info": {
   "codemirror_mode": {
    "name": "ipython",
    "version": 3
   },
   "file_extension": ".py",
   "mimetype": "text/x-python",
   "name": "python",
   "nbconvert_exporter": "python",
   "pygments_lexer": "ipython3",
   "version": "3.9.7"
  }
 },
 "nbformat": 4,
 "nbformat_minor": 5
}
