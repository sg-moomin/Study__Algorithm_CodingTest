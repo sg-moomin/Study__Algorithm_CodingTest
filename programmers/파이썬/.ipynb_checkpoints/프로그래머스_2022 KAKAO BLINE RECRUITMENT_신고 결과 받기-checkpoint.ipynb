{
 "cells": [
  {
   "cell_type": "code",
   "execution_count": 32,
   "id": "96fed0d0",
   "metadata": {},
   "outputs": [
    {
     "name": "stdout",
     "output_type": "stream",
     "text": [
      "[1, 2, 0, 2] ['frodo neo ', 'neo ', 'frodo muzi ', '']\n",
      "0\n",
      "['frodo', 'neo']\n",
      "frodo neo \n",
      "frodo neo \n",
      "neo \n",
      "frodo muzi \n",
      "[2, 1, 1, 0]\n"
     ]
    }
   ],
   "source": [
    "id_list = [\"muzi\", \"frodo\", \"apeach\", \"neo\"]\n",
    "k = 2\n",
    "id_chk_list = [0] * len(id_list)\n",
    "answer_list = [0] * len(id_list)\n",
    "id_send_list = [''] * len(id_list)\n",
    "id_chk = []\n",
    "report =  [\"muzi frodo\",\"apeach frodo\",\"frodo neo\",\"muzi neo\",\"apeach muzi\"]\n",
    "\n",
    "for i in report:\n",
    "    temp = i.split()\n",
    "    for j in range(0, len(id_list)):\n",
    "        if(id_list[j] == temp[0]):\n",
    "            id_send_list[j] = id_send_list[j] + temp[1] + ' '\n",
    "            break;\n",
    "    \n",
    "    for z in range(0, len(id_list)):\n",
    "        if(id_list[z] == temp[1]):\n",
    "            id_chk_list[z] = id_chk_list[z] + 1\n",
    "            break;\n",
    "    \n",
    "print(id_chk_list, id_send_list)\n",
    "print(id_send_list[1].count('con'))\n",
    "\n",
    "for i in range(len(id_list)):\n",
    "    if id_chk_list[i] >= k:\n",
    "        id_chk.append(id_list[i])\n",
    "    \n",
    "print(id_chk)\n",
    "        \n",
    "for i in range(len(id_send_list)):\n",
    "    for j in id_chk: \n",
    "        if id_send_list[i].find(j) == -1:\n",
    "            continue\n",
    "        else:\n",
    "            print(id_send_list[i])\n",
    "            if id_send_list[i].count(j) == 1:\n",
    "                answer_list[i] += 1\n",
    "            else:\n",
    "                continue\n",
    "        \n",
    "print(answer_list)\n"
   ]
  },
  {
   "cell_type": "code",
   "execution_count": 15,
   "id": "b2be1a3a",
   "metadata": {},
   "outputs": [
    {
     "name": "stdout",
     "output_type": "stream",
     "text": [
      "[1, 2, 0, 2] -1\n"
     ]
    }
   ],
   "source": [
    "#### 시간초과 및 실패한 코드 1\n",
    "def solution(id_list, report, k):\n",
    "    id_chk_list = [0] * len(id_list)\n",
    "    answer_list = [0] * len(id_list)\n",
    "    id_send_list = [''] * len(id_list)\n",
    "    id_chk = []\n",
    "    \n",
    "    for i in report:\n",
    "        temp = i.split()\n",
    "        for j in range(0, len(id_list)):\n",
    "            if(id_list[j] == temp[0]):\n",
    "                id_send_list[j] = id_send_list[j] + temp[1] + ' '\n",
    "                break;\n",
    "\n",
    "        for z in range(0, len(id_list)):\n",
    "            if(id_list[z] == temp[1]):\n",
    "                id_chk_list[z] = id_chk_list[z] + 1\n",
    "                break;\n",
    "\n",
    "    for i in range(len(id_list)):\n",
    "        if id_chk_list[i] >= k:\n",
    "            id_chk.append(id_list[i])\n",
    "\n",
    "    for i in range(len(id_send_list)):\n",
    "        for j in id_chk: \n",
    "            if id_send_list[i].find(j) == -1:\n",
    "                continue\n",
    "            else:\n",
    "                if id_send_list[i].count(j) == 1:\n",
    "                    answer_list[i] += 1\n",
    "                else:\n",
    "                    continue\n",
    "\n",
    "    return answer_list\n"
   ]
  }
 ],
 "metadata": {
  "kernelspec": {
   "display_name": "Python 3 (ipykernel)",
   "language": "python",
   "name": "python3"
  },
  "language_info": {
   "codemirror_mode": {
    "name": "ipython",
    "version": 3
   },
   "file_extension": ".py",
   "mimetype": "text/x-python",
   "name": "python",
   "nbconvert_exporter": "python",
   "pygments_lexer": "ipython3",
   "version": "3.9.7"
  }
 },
 "nbformat": 4,
 "nbformat_minor": 5
}
