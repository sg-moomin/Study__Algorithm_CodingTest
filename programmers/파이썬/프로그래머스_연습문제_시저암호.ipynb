{
 "cells": [
  {
   "cell_type": "code",
   "execution_count": 32,
   "id": "6faa26ad",
   "metadata": {},
   "outputs": [],
   "source": [
    "def solution(s, n):\n",
    "    answer = \"\" \n",
    "\n",
    "    n = n % 26\n",
    "\n",
    "    for i in range(len(s)):\n",
    "        if s[i] == \" \":\n",
    "            answer += \" \"\n",
    "        elif ord(s[i]) >= ord('a') and ord(s[i]) <= ord('z'):\n",
    "            if (ord(s[i]) + n) > ord('z'):\n",
    "                answer += chr((ord('a') + n) - (ord('z') - ord(s[i]) + 1))\n",
    "            else:\n",
    "                answer += chr(ord(s[i]) + n)\n",
    "        elif ord(s[i]) >= ord('A') and ord(s[i]) <= ord('Z'):\n",
    "            if (ord(s[i]) + n) > ord('Z'):\n",
    "                answer += chr((ord('A') + n) - (ord('Z') - ord(s[i]) + 1))\n",
    "            else:\n",
    "                answer += chr(ord(s[i]) + n)\n",
    "        else: \n",
    "               answer += chr(s[i])\n",
    "\n",
    "    return answer"
   ]
  },
  {
   "cell_type": "code",
   "execution_count": 33,
   "id": "b411fa35",
   "metadata": {},
   "outputs": [
    {
     "data": {
      "text/plain": [
       "'e F d'"
      ]
     },
     "execution_count": 33,
     "metadata": {},
     "output_type": "execute_result"
    }
   ],
   "source": [
    "solution(\"a B z\", 4)"
   ]
  }
 ],
 "metadata": {
  "kernelspec": {
   "display_name": "Python 3 (ipykernel)",
   "language": "python",
   "name": "python3"
  },
  "language_info": {
   "codemirror_mode": {
    "name": "ipython",
    "version": 3
   },
   "file_extension": ".py",
   "mimetype": "text/x-python",
   "name": "python",
   "nbconvert_exporter": "python",
   "pygments_lexer": "ipython3",
   "version": "3.9.7"
  }
 },
 "nbformat": 4,
 "nbformat_minor": 5
}
