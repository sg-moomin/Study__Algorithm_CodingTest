{
 "cells": [
  {
   "cell_type": "code",
   "execution_count": 6,
   "metadata": {},
   "outputs": [
    {
     "name": "stdout",
     "output_type": "stream",
     "text": [
      "config????\n"
     ]
    }
   ],
   "source": [
    "# 명령 프롬포트 - 1032\n",
    "\n",
    "inputValue = int(input())\n",
    "for i in range(inputValue):\n",
    "    if i == 0:\n",
    "        value = list(input())\n",
    "        result = value\n",
    "    else :\n",
    "        n_value = list(input())\n",
    "        for j in range(len(value)):\n",
    "            if value[j] == n_value[j]:\n",
    "                result[j] = value[j]\n",
    "            else:\n",
    "                result[j] = '?'\n",
    "\n",
    "\n",
    "print(''.join(result))\n",
    "             \n",
    "\n",
    "\n"
   ]
  },
  {
   "cell_type": "markdown",
   "metadata": {},
   "source": []
  }
 ],
 "metadata": {
  "kernelspec": {
   "display_name": "newenv",
   "language": "python",
   "name": "python3"
  },
  "language_info": {
   "codemirror_mode": {
    "name": "ipython",
    "version": 3
   },
   "file_extension": ".py",
   "mimetype": "text/x-python",
   "name": "python",
   "nbconvert_exporter": "python",
   "pygments_lexer": "ipython3",
   "version": "3.8.18"
  }
 },
 "nbformat": 4,
 "nbformat_minor": 2
}
